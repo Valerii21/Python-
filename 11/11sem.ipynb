{
 "cells": [
  {
   "cell_type": "code",
   "execution_count": null,
   "metadata": {},
   "outputs": [],
   "source": [
    "# Библиотека для работы с табличными данными\n",
    "import pandas as pd"
   ]
  },
  {
   "cell_type": "markdown",
   "metadata": {
    "id": "d_eLxSfxdkDF"
   },
   "source": [
    "# Самостоятельная практика №1\n",
    "\n",
    "\n",
    "*   Прочесть с помощью pandas файл **california_housing_test.csv**, который находится в папке **sample_data**\n",
    "*   Посмотреть сколько в нем строк и столбцов\n",
    "*   (Доп) Определить какой тип данных имеют столбцы\n",
    "*   (Доп) Проверить есть ли в файле пустые значения\n",
    "\n",
    "\n"
   ]
  },
  {
   "cell_type": "code",
   "execution_count": null,
   "metadata": {
    "id": "iHd88gdAb2gn"
   },
   "outputs": [],
   "source": [
    "# Прочесть с помощью pandas файл **california_housing_test.csv**, который находится в папке **sample_data**\n",
    "df = pd.read_csv('C:\\python\\lesson_11/california_housing_test.csv')\n"
   ]
  },
  {
   "cell_type": "code",
   "execution_count": null,
   "metadata": {
    "id": "cnPVv49mfdWy"
   },
   "outputs": [],
   "source": [
    "# Посмотреть сколько в нем строк и столбцов\n",
    "df.tail()"
   ]
  },
  {
   "cell_type": "code",
   "execution_count": null,
   "metadata": {
    "id": "n42HCPLefenI"
   },
   "outputs": [],
   "source": [
    "# Определить какой тип данных имеют столбцы\n",
    "df.dtypes\n"
   ]
  },
  {
   "cell_type": "code",
   "execution_count": null,
   "metadata": {
    "id": "um1jvWM9Ite0"
   },
   "outputs": [],
   "source": [
    "# Проверить есть ли в файле пустые значения\n",
    "df.isnull().sum()"
   ]
  },
  {
   "cell_type": "markdown",
   "metadata": {
    "id": "YbvxdCMohBOp"
   },
   "source": [
    "# Самостоятельная практика №2\n",
    "\n",
    "\n",
    "*   Показать **median_house_value** где **median_income < 2**\n",
    "*   (Доп) Показать данные в первых 2 столбцах\n",
    "*   (Доп) Выбрать данные где **housing_median_age** < 20 и **median_house_value** > 70000"
   ]
  },
  {
   "cell_type": "code",
   "execution_count": null,
   "metadata": {
    "id": "boPXTXxuhINk"
   },
   "outputs": [],
   "source": [
    "# Показать **median_house_value** где **median_income < 2**\n",
    "df[(['median_house_value']) | (df['median_income'] < 2)]"
   ]
  },
  {
   "cell_type": "code",
   "execution_count": null,
   "metadata": {
    "id": "IWlTjS4cg3pU"
   },
   "outputs": [],
   "source": [
    "# Показать данные в первых 2 столбцах\n",
    "df[['longitude', 'latitude']]"
   ]
  },
  {
   "cell_type": "code",
   "execution_count": null,
   "metadata": {
    "id": "xuw6X3-pg3jW"
   },
   "outputs": [],
   "source": [
    "# Выбрать данные где **housing_median_age** < 20 и **median_house_value** > 70000\n",
    "df[(df['housing_median_age'] < 20) | (df['median_house_value'] > 7000)]"
   ]
  },
  {
   "cell_type": "markdown",
   "metadata": {
    "id": "o6VM2sQQsDmL"
   },
   "source": [
    "# Самостоятельная практика №3\n",
    "\n",
    "  \n",
    "*   Определить какое максимальное и минимальное значение **median_house_value**\n",
    "* (Доп) Показать максимальное **median_house_value**, где **median_income** = 3.1250\n",
    "*  (Доп) Узнать какая максимальная **population** в зоне минимального значения **median_house_value**\n",
    "\n",
    "\n"
   ]
  },
  {
   "cell_type": "code",
   "execution_count": null,
   "metadata": {
    "colab": {
     "base_uri": "https://localhost:8080/"
    },
    "id": "VMgbETDuhwBE",
    "outputId": "97003d2f-f421-4083-b295-21ebdbeec2ed"
   },
   "outputs": [],
   "source": [
    "# Определить какое максимальное **median_house_value**\n",
    "print(df['median_house_value'].max()) \n",
    "# Определить минимальное значение **median_house_value**\n",
    "print(df['median_house_value'].min())"
   ]
  },
  {
   "cell_type": "code",
   "execution_count": null,
   "metadata": {},
   "outputs": [],
   "source": [
    "# Показать максимальное **median_house_value**, где **median_income** = 3.1250\n",
    "df[['median_house_value']].median()"
   ]
  },
  {
   "cell_type": "code",
   "execution_count": null,
   "metadata": {},
   "outputs": [],
   "source": []
  }
 ],
 "metadata": {
  "colab": {
   "collapsed_sections": [],
   "name": "семинар 9",
   "provenance": []
  },
  "kernelspec": {
   "display_name": "Python 3.8.3 ('base')",
   "language": "python",
   "name": "python3"
  },
  "language_info": {
   "codemirror_mode": {
    "name": "ipython",
    "version": 3
   },
   "file_extension": ".py",
   "mimetype": "text/x-python",
   "name": "python",
   "nbconvert_exporter": "python",
   "pygments_lexer": "ipython3",
   "version": "3.8.3"
  },
  "vscode": {
   "interpreter": {
    "hash": "ad2bdc8ecc057115af97d19610ffacc2b4e99fae6737bb82f5d7fb13d2f2c186"
   }
  }
 },
 "nbformat": 4,
 "nbformat_minor": 1
}
